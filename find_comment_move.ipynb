{
 "cells": [
  {
   "cell_type": "code",
   "execution_count": 88,
   "metadata": {},
   "outputs": [
    {
     "name": "stdout",
     "output_type": "stream",
     "text": [
      "Enter directory path to search: /home/admin/Desktop/wd_py/unreviewed\n",
      "Enter directory path to move: /home/admin/Desktop/wd_py/validated\n",
      "Enter the search string: LOL\n",
      "Enter the comment to add (line 3): //LOL is found!\n"
     ]
    }
   ],
   "source": [
    "import os\n",
    "\n",
    "\n",
    "search_path = input(\"Enter directory path to search: \")\n",
    "destination_path = input(\"Enter directory path to move: \")\n",
    "search_str = input(\"Enter the search string: \")\n",
    "comment = input(\"Enter the comment to add (line 3): \")"
   ]
  },
  {
   "cell_type": "code",
   "execution_count": 89,
   "metadata": {},
   "outputs": [],
   "source": [
    "#Append a directory separator if not already present\n",
    "if not search_path.endswith(\"/\"): \n",
    "        search_path = search_path + \"/\"\n",
    "\n",
    "if not destination_path.endswith(\"/\"): \n",
    "        destination_path = destination_path + \"/\"\n",
    "        \n",
    "# If path does not exist, set search path to current directory\n",
    "if not os.path.exists(search_path):\n",
    "        search_path =\".\"\n",
    "        \n",
    "if not os.path.exists(destination_path):\n",
    "        destination_path =\".\""
   ]
  },
  {
   "cell_type": "code",
   "execution_count": 96,
   "metadata": {},
   "outputs": [],
   "source": [
    "for fname in os.listdir(path=search_path):\n",
    "        \n",
    "        fo = open(search_path + fname, 'r+')\n",
    "        \n",
    "        #The searching and editing procedure\n",
    "        for line in fo.readlines():\n",
    "                index = line.find(search_str)\n",
    "                \n",
    "                #File containig the search entry...\n",
    "                if (index != -1) :\n",
    "                    \n",
    "                    #...is commented if necessary\n",
    "                    if comment != '' :                      \n",
    "                        contents =  open(search_path + fname).readlines()\n",
    "                        contents.insert(2, comment + '\\n')\n",
    "                        with open(search_path + fname, 'w+') as fw:\n",
    "                            fw.writelines(contents)\n",
    "                            \n",
    "                    #... and moved into a new destination directory\n",
    "                    os.rename(search_path + fname, destination_path + fname)        \n",
    "        fo.close()"
   ]
  },
  {
   "cell_type": "code",
   "execution_count": null,
   "metadata": {},
   "outputs": [],
   "source": []
  }
 ],
 "metadata": {
  "kernelspec": {
   "display_name": "Python 3",
   "language": "python",
   "name": "python3"
  },
  "language_info": {
   "codemirror_mode": {
    "name": "ipython",
    "version": 3
   },
   "file_extension": ".py",
   "mimetype": "text/x-python",
   "name": "python",
   "nbconvert_exporter": "python",
   "pygments_lexer": "ipython3",
   "version": "3.5.4"
  }
 },
 "nbformat": 4,
 "nbformat_minor": 2
}
